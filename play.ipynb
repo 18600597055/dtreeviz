{
 "cells": [
  {
   "cell_type": "code",
   "execution_count": 1,
   "metadata": {},
   "outputs": [],
   "source": [
    "import IPython, graphviz, re\n",
    "from io import StringIO\n",
    "from IPython.display import Image\n",
    "import numpy as np\n",
    "import pandas as pd\n",
    "import math\n",
    "from sklearn import tree\n",
    "from sklearn.datasets import load_boston, load_iris, load_wine, load_breast_cancer\n",
    "from collections import defaultdict\n",
    "import string\n",
    "import re\n",
    "import numpy as np\n",
    "import matplotlib.pyplot as plt"
   ]
  },
  {
   "cell_type": "code",
   "execution_count": 2,
   "metadata": {},
   "outputs": [],
   "source": [
    "# inspired by Mark Needham's blog\n",
    "# https://markhneedham.com/blog/2017/09/23/python-3-create-sparklines-using-matplotlib/\n",
    "\n",
    "#def sparkline(data, filename, fill=False, figsize=(4, 0.25), **kwags):\n",
    "\"\"\"\n",
    "Save a sparkline image\n",
    "\"\"\"\n",
    "\n",
    "boston = load_boston()"
   ]
  },
  {
   "cell_type": "code",
   "execution_count": 3,
   "metadata": {
    "scrolled": true
   },
   "outputs": [
    {
     "data": {
      "image/png": "[encoded data removed]",
      "text/plain": [
       "<Figure size 720x144 with 1 Axes>"
      ]
     },
     "metadata": {},
     "output_type": "display_data"
    }
   ],
   "source": [
    "data = boston.data\n",
    "feature_names = boston.feature_names\n",
    "target = boston.target\n",
    "\n",
    "fig, ax = plt.subplots(1, 1, figsize=(10,2))\n",
    "ax.scatter(data[:,0], target, s=2, alpha=.5)\n",
    "# ax.scatter(data[:,1], target, s=2)\n",
    "# ax.scatter(data[:,2], target, s=2)\n",
    "for k,v in ax.spines.items():\n",
    "    v.set_visible(False)\n",
    "ax.set_xticks([])\n",
    "ax.set_yticks([])\n",
    "\n",
    "plt.show()"
   ]
  },
  {
   "cell_type": "code",
   "execution_count": 4,
   "metadata": {
    "scrolled": true
   },
   "outputs": [
    {
     "data": {
      "image/png": "[encoded data removed]",
      "text/plain": [
       "<Figure size 720x144 with 1 Axes>"
      ]
     },
     "metadata": {},
     "output_type": "display_data"
    }
   ],
   "source": [
    "fig, ax = plt.subplots(1, 1, figsize=(10,2))\n",
    "ax.scatter(data[:,1], target, s=2)\n",
    "for k,v in ax.spines.items():\n",
    "    v.set_visible(False)\n",
    "ax.set_xticks([])\n",
    "ax.set_yticks([])\n",
    "\n",
    "plt.show()"
   ]
  },
  {
   "cell_type": "code",
   "execution_count": 5,
   "metadata": {
    "scrolled": true
   },
   "outputs": [
    {
     "data": {
      "image/png": "[encoded data removed]",
      "text/plain": [
       "<Figure size 57.6x360 with 1 Axes>"
      ]
     },
     "metadata": {},
     "output_type": "display_data"
    }
   ],
   "source": [
    "y = np.array([16.2, 18., 14.3, 18.4, 15.6, 18.1, 17.4, 17.1, 13.3, 17.8, 14., 14.4, 13.4, 15.6\n",
    ", 11.8, 13.8, 15.6, 14.6, 17.8, 15.4, 19.4, 17., 15.6, 13.1, 17.8, 16.8, 13.8, 13.8\n",
    ", 13.9, 13.3, 13.1, 10.2, 10.9, 11.3, 12.3, 8.8, 7.2, 10.5, 7.4, 10.2, 11.5, 15.1\n",
    ", 23.2, 9.7, 13.8, 12.7, 13.1, 12.5, 8.5, 5., 6.3, 5.6, 7.2, 12.1, 8.3, 8.5\n",
    ", 5., 11.9, 7., 7.2, 7.5, 10.4, 8.8, 8.4, 16.7, 14.2, 13.4, 8.3, 10.9, 11.\n",
    ", 9.5, 14.3, 11.7, 13.4, 9.6, 8.7, 8.4, 12.8, 10.5, 17.1, 18.4, 15.4, 10.8, 11.8\n",
    ", 14.9, 12.6, 14.1, 13., 13.4, 15.2, 16.1, 14.9, 14.1, 12.7, 13.5, 14.9, 20., 16.4\n",
    ", 17.7, 19., 16.7, 12., 14.6, 15.2, 7., 8.1, 13.6])\n",
    "\n",
    "fig, ax = plt.subplots(1, 1, figsize=(.8,5))\n",
    "ax.xaxis.set_visible(False)\n",
    "ax.set_xticks([])\n",
    "#ax.set_xlim(0,.2)\n",
    "\n",
    "y_range = (3,50)\n",
    "ax.set_ylim(y_range)\n",
    "ax.tick_params(axis='both', which='major', labelsize=18)\n",
    "meanprops = {'linewidth':1.2,'linestyle':'-','color':'black'}\n",
    "bp =ax.boxplot(y, notch=False, medianprops={'linewidth':0}, meanprops=meanprops,\n",
    "           widths=[.9], showmeans=True, meanline=True, sym='', patch_artist=True)\n",
    "BLUE = \"#D9E6F5\"\n",
    "YELLOW = \"#fefecd\"\n",
    "for patch in bp['boxes']:\n",
    "    patch.set(facecolor=BLUE)       \n",
    "plt.show()"
   ]
  },
  {
   "cell_type": "code",
   "execution_count": 6,
   "metadata": {},
   "outputs": [
    {
     "data": {
      "image/png": "[encoded data removed]",
      "text/plain": [
       "<Figure size 57.6x360 with 1 Axes>"
      ]
     },
     "metadata": {},
     "output_type": "display_data"
    }
   ],
   "source": [
    "import seaborn as sns\n",
    "\n",
    "fig, ax = plt.subplots(1, 1, figsize=(.8,5))\n",
    "sns.set(style=\"white\")\n",
    "ax.set_ylim(3,50)\n",
    "#ax.set_ylim('', fontsize=28, fontname=\"Arial)\n",
    "#plt.xticks(fontsize=38)\n",
    "plt.tick_params(axis='both', which='major', labelsize=18)\n",
    "ax = sns.boxplot(y=y, color='#fee090', ax=ax, linewidth=1, sym='')"
   ]
  },
  {
   "cell_type": "code",
   "execution_count": 7,
   "metadata": {},
   "outputs": [
    {
     "data": {
      "image/png": "[encoded data removed]",
      "text/plain": [
       "<Figure size 273.6x360 with 2 Axes>"
      ]
     },
     "metadata": {},
     "output_type": "display_data"
    }
   ],
   "source": [
    "y = np.array([16.2, 18., 14.3, 18.4, 15.6, 18.1, 17.4, 17.1, 13.3, 17.8, 14., 14.4, 13.4, 15.6\n",
    ", 11.8, 13.8, 15.6, 14.6, 17.8, 15.4, 19.4, 17., 15.6, 13.1, 17.8, 16.8, 13.8, 13.8\n",
    ", 13.9, 13.3, 13.1, 10.2, 10.9, 11.3, 12.3, 8.8, 7.2, 10.5, 7.4, 10.2, 11.5, 15.1\n",
    ", 23.2, 9.7, 13.8, 12.7, 13.1, 12.5, 8.5, 5., 6.3, 5.6, 7.2, 12.1, 8.3, 8.5\n",
    ", 5., 11.9, 7., 7.2, 7.5, 10.4, 8.8, 8.4, 16.7, 14.2, 13.4, 8.3, 10.9, 11.\n",
    ", 9.5, 14.3, 11.7, 13.4, 9.6, 8.7, 8.4, 12.8, 10.5, 17.1, 18.4, 15.4, 10.8, 11.8\n",
    ", 14.9, 12.6, 14.1, 13., 13.4, 15.2, 16.1, 14.9, 14.1, 12.7, 13.5, 14.9, 20., 16.4\n",
    ", 17.7, 19., 16.7, 12., 14.6, 15.2, 7., 8.1, 13.6])\n",
    "\n",
    "fig, axes = plt.subplots(1, 2, figsize=(3.8,5))\n",
    "plt.subplots_adjust(wspace=.2)\n",
    "ax0 = axes[0]\n",
    "#ax0.xaxis.set_visible(False)\n",
    "#ax0.set_xlabel(\"price\", fontsize=18)\n",
    "ax0.set_xticklabels(['ss','abc'])\n",
    "#ax0.set_xticks([3], minor=True)\n",
    "\n",
    "y_range = (3,50)\n",
    "ax0.set_ylim(y_range)\n",
    "ax0.tick_params(axis='both', which='major', labelsize=18)\n",
    "meanprops = {'linewidth':1.2,'linestyle':'-','color':'black'}\n",
    "bp =ax0.boxplot(y, notch=False,\n",
    "                medianprops={'linewidth':0}, \n",
    "                meanprops=meanprops,\n",
    "                widths=[.9],\n",
    "                showmeans=True,\n",
    "                meanline=True,\n",
    "                sym='',\n",
    "                labels=[\"price\"],\n",
    "                patch_artist=True)\n",
    "\n",
    "BLUE = \"#D9E6F5\"\n",
    "YELLOW = \"#fefecd\"\n",
    "for patch in bp['boxes']:\n",
    "    patch.set(facecolor='#a6bddb')       \n",
    "    \n",
    "ax1 = axes[1]\n",
    "#ax1.xaxis.set_visible(False)\n",
    "ax1.set_xticklabels(['foo'])\n",
    "# ax1.set_xticklabels(['ff'], minor=False)\n",
    "#ax1.set_xlabel(\"n\", fontsize=18)\n",
    "ax1.yaxis.tick_right()\n",
    "ax1.set_ylim(0,350)\n",
    "ax1.tick_params(axis='both', which='major', labelsize=18)\n",
    "ax1.bar(0,223,color='yellow',tick_label='foo', linewidth=0)\n",
    "ax1.axhline(223, color=\"grey\")\n",
    "plt.show()"
   ]
  },
  {
   "cell_type": "code",
   "execution_count": 8,
   "metadata": {},
   "outputs": [
    {
     "data": {
      "image/png": "[encoded data removed]",
      "text/plain": [
       "<Figure size 1080x504 with 1 Axes>"
      ]
     },
     "metadata": {},
     "output_type": "display_data"
    }
   ],
   "source": [
    "from dtreeviz.trees import *\n",
    "\n",
    "precision = 1\n",
    "GREY = '#444443'\n",
    "\n",
    "iris = load_iris()\n",
    "data = pd.DataFrame(iris.data)\n",
    "data.columns = iris.feature_names\n",
    "\n",
    "clf = tree.DecisionTreeClassifier(max_depth=2, random_state=666)\n",
    "clf = clf.fit(data, iris.target)\n",
    "\n",
    "YELLOW = \"#fefecd\" # \"#fbfbd0\" # \"#FBFEB0\"\n",
    "BLUE = \"#D9E6F5\"\n",
    "GREEN = \"#cfe2d4\"\n",
    "DARKBLUE = '#313695'\n",
    "DARKGREEN = '#006400'\n",
    "LIGHTORANGE = '#fee090'\n",
    "LIGHTBLUE = '#a6bddb'\n",
    "GREY = '#444443'\n",
    "dark_colors = [DARKBLUE, DARKGREEN, '#a50026', '#fdae61', '#c51b7d', '#fee090']\n",
    "mycolors = [YELLOW,BLUE,GREEN]\n",
    "\n",
    "class_names=[\"setosa\", \"versicolor\", \"virginica\"]\n",
    "shadow_tree = ShadowDecTree(clf, data, iris.target,\n",
    "                            feature_names=iris.feature_names, \n",
    "                            class_names=class_names)\n",
    "\n",
    "node = shadow_tree.root\n",
    "    \n",
    "fig, ax = plt.subplots(1, 1, figsize=(15,7))\n",
    "ax.set_xlabel(f\"variety\", fontsize=18, fontname=\"Arial\",\n",
    "              color='grey')\n",
    "ax.spines['top'].set_visible(False)\n",
    "ax.spines['right'].set_visible(False)\n",
    "ax.spines['left'].set_visible(False)\n",
    "\n",
    "n_classes = 3\n",
    "class_names = ['A','B','C']\n",
    "\n",
    "X = iris.data\n",
    "y = iris.target\n",
    "X = X[:,node.feature()]\n",
    "X, y = X[node.samples()], y[node.samples()]\n",
    "\n",
    "X_hist = [X[y==cl] for cl in range(n_classes)]\n",
    "\n",
    "binwidth = 30\n",
    "hist,bins,barcontainers = ax.hist(X_hist,\n",
    "              color=mycolors,\n",
    "               #bins=np.arange(min(X), max(X) + binwidth , binwidth),\n",
    "               label=class_names,\n",
    "               linewidth=3,\n",
    "              alpha=.85)\n",
    "#ax.legend(prop={'size': 18})\n",
    "\n",
    "for area in [100, 300, 500]:\n",
    "    plt.scatter([], [], c='k', alpha=0.3, s=area,\n",
    "                label=str(area) + ' km$^2$')\n",
    "plt.legend(scatterpoints=1, labelspacing=1)\n",
    "\n",
    "for patch in barcontainers:\n",
    "    for rect in patch.patches:\n",
    "#         rect.linestyle='solid'\n",
    "        rect.set_linewidth(1.2)\n",
    "        rect.set_edgecolor(GREY)\n",
    "    \n",
    "#    print(patch)\n",
    "#    patch.set(facecolor='#a6bddb')   \n",
    "    \n",
    "ax.set_xticks([round(node.split(),precision)])\n",
    "ax.set_ylabel(\"n\", fontsize=24)\n",
    "ax.tick_params(axis='x', direction='out', length=15, width=10, color=GREY,\n",
    "               labelsize=24)\n",
    "ax.tick_params(axis='y', color=GREY, labelsize=24)\n",
    "plt.show()"
   ]
  },
  {
   "cell_type": "code",
   "execution_count": 75,
   "metadata": {},
   "outputs": [
    {
     "data": {
      "image/png": "[encoded data removed]",
      "text/plain": [
       "<Figure size 72x72 with 1 Axes>"
      ]
     },
     "metadata": {},
     "output_type": "display_data"
    }
   ],
   "source": [
    "import matplotlib.patches as patches\n",
    "from matplotlib.patches import FancyBboxPatch\n",
    "from matplotlib.transforms import Bbox\n",
    "from matplotlib.figure import figaspect\n",
    "import matplotlib.font_manager as font_manager\n",
    "\n",
    "GREY = '#444443'\n",
    "\n",
    "def draw_legend():\n",
    "    box1 = patches.Rectangle((0, 0), 20, 10, linewidth=.4, edgecolor=GREY,\n",
    "                             facecolor=\"#D9E6F5\", label='malignant')\n",
    "    #ax.add_patch(box1)\n",
    "    box2 = patches.Rectangle((0, 0), 0, 0, linewidth=.4, edgecolor=GREY,\n",
    "                             facecolor='#fee090', label='benign')\n",
    "\n",
    "\n",
    "    # font = font_manager.FontProperties(family='Arial',\n",
    "    #                                    style='normal',\n",
    "    #                                    size=16)\n",
    "\n",
    "    fs = figaspect(1/3)\n",
    "    fs = (1,1)\n",
    "    fig, ax = plt.subplots(1, 1, figsize=fs)\n",
    "    leg = ax.legend(handles=[box1,box2],\n",
    "                    frameon=True,\n",
    "                    loc='center',\n",
    "                    title='Price',\n",
    "                    handletextpad=.35,\n",
    "                    borderpad=.8,\n",
    "                    #          bbox_to_anchor=(0.0, 0.0),\n",
    "                    edgecolor=GREY,\n",
    "                    )\n",
    "\n",
    "    leg.get_title().set_color(GREY)\n",
    "    leg.get_title().set_fontsize(12)\n",
    "    leg.get_title().set_fontweight('bold')\n",
    "    for text in leg.get_texts():\n",
    "        text.set_color(GREY)\n",
    "        text.set_fontsize(12)\n",
    "\n",
    "    ax.set_xlim(0,20)\n",
    "    ax.set_ylim(0,10)\n",
    "    ax.axis('off')\n",
    "    ax.xaxis.set_visible(False)\n",
    "    ax.yaxis.set_visible(False)\n",
    "\n",
    "    plt.tight_layout()\n",
    "\n",
    "    plt.savefig(\"/tmp/legend.svg\", bbox_inches='tight', pad_inches=0)\n",
    "\n",
    "draw_legend()\n",
    "plt.show()"
   ]
  },
  {
   "cell_type": "code",
   "execution_count": 10,
   "metadata": {},
   "outputs": [
    {
     "data": {
      "image/png": "[encoded data removed]",
      "text/plain": [
       "<Figure size 72x43.2 with 1 Axes>"
      ]
     },
     "metadata": {},
     "output_type": "display_data"
    }
   ],
   "source": [
    "import matplotlib.patches as patches\n",
    "from matplotlib.patches import FancyBboxPatch\n",
    "from matplotlib.transforms import Bbox\n",
    "from matplotlib.figure import figaspect\n",
    "\n",
    "fs = (1,1)\n",
    "fig, ax = plt.subplots(1, 1, figsize=(1,.6))\n",
    "box1 = patches.Rectangle((0, 0), 2, 1, linewidth=1.2, edgecolor='grey',\n",
    "                         facecolor='red', label='one')\n",
    "ax.add_patch(box1)\n",
    "\n",
    "ax.set_xlim(0,2)\n",
    "ax.set_ylim(0,1)\n",
    "ax.axis('off')\n",
    "ax.xaxis.set_visible(False)\n",
    "ax.yaxis.set_visible(False)\n",
    "\n",
    "plt.tight_layout()\n",
    "\n",
    "plt.savefig(\"/tmp/legend.svg\", bbox_inches='tight', pad_inches=0)\n",
    "\n",
    "plt.show()"
   ]
  },
  {
   "cell_type": "code",
   "execution_count": 11,
   "metadata": {},
   "outputs": [
    {
     "data": {
      "text/plain": [
       "[array([0.2, 0.2, 0.2, 0.2, 0.2, 0.4, 0.3, 0.2, 0.2, 0.1, 0.2, 0.2, 0.1,\n",
       "        0.1, 0.2, 0.4, 0.4, 0.3, 0.3, 0.3, 0.2, 0.4, 0.2, 0.5, 0.2, 0.2,\n",
       "        0.4, 0.2, 0.2, 0.2, 0.2, 0.4, 0.1, 0.2, 0.2, 0.2, 0.2, 0.1, 0.2,\n",
       "        0.2, 0.3, 0.3, 0.2, 0.6, 0.4, 0.3, 0.2, 0.2, 0.2, 0.2]),\n",
       " array([1.4, 1.5, 1.5, 1.3, 1.5, 1.3, 1.6, 1. , 1.3, 1.4, 1. , 1.5, 1. ,\n",
       "        1.4, 1.3, 1.4, 1.5, 1. , 1.5, 1.1, 1.8, 1.3, 1.5, 1.2, 1.3, 1.4,\n",
       "        1.4, 1.7, 1.5, 1. , 1.1, 1. , 1.2, 1.6, 1.5, 1.6, 1.5, 1.3, 1.3,\n",
       "        1.3, 1.2, 1.4, 1.2, 1. , 1.3, 1.2, 1.3, 1.3, 1.1, 1.3]),\n",
       " array([2.5, 1.9, 2.1, 1.8, 2.2, 2.1, 1.7, 1.8, 1.8, 2.5, 2. , 1.9, 2.1,\n",
       "        2. , 2.4, 2.3, 1.8, 2.2, 2.3, 1.5, 2.3, 2. , 2. , 1.8, 2.1, 1.8,\n",
       "        1.8, 1.8, 2.1, 1.6, 1.9, 2. , 2.2, 1.5, 1.4, 2.3, 2.4, 1.8, 1.8,\n",
       "        2.1, 2.4, 2.3, 1.9, 2.3, 2.5, 2.3, 1.9, 2. , 2.3, 1.8])]"
      ]
     },
     "execution_count": 11,
     "metadata": {},
     "output_type": "execute_result"
    }
   ],
   "source": [
    "X_hist"
   ]
  },
  {
   "cell_type": "code",
   "execution_count": 12,
   "metadata": {
    "scrolled": true
   },
   "outputs": [
    {
     "name": "stdout",
     "output_type": "stream",
     "text": [
      "[(0.1, 0.6), (1.0, 1.8), (1.4, 2.5)]\n",
      "(0.1, 0.6)\n",
      "50\n",
      "(1.0, 1.8)\n",
      "50\n",
      "(1.4, 2.5)\n",
      "50\n"
     ]
    },
    {
     "ename": "NameError",
     "evalue": "name 'bbox' is not defined",
     "output_type": "error",
     "traceback": [
      "\u001b[0;31m---------------------------------------------------------------------------\u001b[0m",
      "\u001b[0;31mNameError\u001b[0m                                 Traceback (most recent call last)",
      "\u001b[0;32m<ipython-input-12-c05e1b8c6e62>\u001b[0m in \u001b[0;36m<module>\u001b[0;34m()\u001b[0m\n\u001b[1;32m     37\u001b[0m \u001b[0;34m\u001b[0m\u001b[0m\n\u001b[1;32m     38\u001b[0m \u001b[0mx\u001b[0m \u001b[0;34m=\u001b[0m \u001b[0;36m2.5\u001b[0m\u001b[0;34m\u001b[0m\u001b[0m\n\u001b[0;32m---> 39\u001b[0;31m \u001b[0mxaxis_y\u001b[0m \u001b[0;34m=\u001b[0m \u001b[0mbbox\u001b[0m\u001b[0;34m.\u001b[0m\u001b[0my0\u001b[0m\u001b[0;34m\u001b[0m\u001b[0m\n\u001b[0m\u001b[1;32m     40\u001b[0m \u001b[0;34m\u001b[0m\u001b[0m\n\u001b[1;32m     41\u001b[0m \u001b[0;31m#tria = np.array([[x,xaxis_y],[x-10,xaxis_y-10],[x+10,xaxis_y-10]])\u001b[0m\u001b[0;34m\u001b[0m\u001b[0;34m\u001b[0m\u001b[0m\n",
      "\u001b[0;31mNameError\u001b[0m: name 'bbox' is not defined"
     ]
    },
    {
     "data": {
      "image/png": "[encoded data removed]",
      "text/plain": [
       "<Figure size 864x216 with 1 Axes>"
      ]
     },
     "metadata": {},
     "output_type": "display_data"
    }
   ],
   "source": [
    "from scipy import stats\n",
    "from sklearn.neighbors import KernelDensity\n",
    "\n",
    "fig, ax = plt.subplots(1, 1, figsize=(12,3))\n",
    "X = iris.data\n",
    "y = iris.target\n",
    "n_cols = X.shape[1]\n",
    "X_hist = [X[y==cl] for cl in range(n_classes)]\n",
    "\n",
    "i_splitvar = 3\n",
    "\n",
    "ranges = [(np.min(X_hist[cl][:,i_splitvar]),np.max(X_hist[cl][:,i_splitvar])) for cl in range(n_classes)]\n",
    "print(ranges)\n",
    "\n",
    "for cl in range(n_classes):\n",
    "    r=ranges[cl]\n",
    "    print(r)\n",
    "    X = X_hist[cl][:,i_splitvar]\n",
    "    x_grid = np.linspace(r[0]-r[0]*.25, r[1]*1.25, 1000)\n",
    "    if False:\n",
    "        kernel = stats.gaussian_kde(X)\n",
    "        heights = kernel.evaluate(x_grid)\n",
    "    n = len(X)\n",
    "    d = 1\n",
    "    print(n)\n",
    "    bw = n**(-1./(3))\n",
    "    bw = (n * (d + 2) / 4.)**(-1. / (d + 4))\n",
    "    bw /= 6\n",
    "    kde = KernelDensity(kernel='gaussian', bandwidth=bw).fit(X.reshape(-1, 1))\n",
    "    log_dens = kde.score_samples(x_grid.reshape(-1, 1))\n",
    "    heights = np.exp(log_dens)\n",
    "#     print(heights)\n",
    "    plt.plot(x_grid, heights, linewidth=1, c='black')\n",
    "    plt.fill(x_grid, heights, alpha=.6)\n",
    "#    plt.ylim(0.0,3)\n",
    "\n",
    "\n",
    "x = 2.5\n",
    "xaxis_y = bbox.y0\n",
    "\n",
    "#tria = np.array([[x,xaxis_y],[x-10,xaxis_y-10],[x+10,xaxis_y-10]])\n",
    "tria = np.array([[x,0],[x-.2,-.3],[x+.2,-0.3]])\n",
    "t = patches.Polygon(tria, linewidth=1.2, edgecolor='orange',\n",
    "                      facecolor='orange', label='foo')\n",
    "t.set_clip_on(False)\n",
    "ax.set_xlabel(f'petal length')\n",
    "#ax.add_patch(t)\n",
    "#ax.set_xticks([])\n",
    "#ax.yaxis.set_visible(False)\n",
    "ax.spines['top'].set_visible(False)\n",
    "ax.spines['right'].set_visible(False)\n",
    "ax.spines['left'].set_visible(False)\n",
    "plt.show()"
   ]
  },
  {
   "cell_type": "code",
   "execution_count": null,
   "metadata": {
    "scrolled": true
   },
   "outputs": [],
   "source": [
    "from scipy import stats\n",
    "from sklearn.neighbors import KernelDensity\n",
    "\n",
    "fig, ax = plt.subplots(1, 1, figsize=(12,3))\n",
    "X = iris.data\n",
    "y = iris.target\n",
    "n_cols = X.shape[1]\n",
    "X_hist = [X[y==cl] for cl in range(n_classes)]\n",
    "\n",
    "i_splitvar = 3\n",
    "\n",
    "ranges = [(np.min(X_hist[cl][:,i_splitvar]),np.max(X_hist[cl][:,i_splitvar])) for cl in range(n_classes)]\n",
    "\n",
    "\n",
    "colors = [\"#fefecd\",\"#D9E6F5\",'#a1dab4']\n",
    "\n",
    "for cl in range(n_classes):\n",
    "    X = X_hist[cl][:,i_splitvar]\n",
    "    hist, bin_edges = np.histogram(X, density=False)\n",
    "#     print(hist, bin_edges)\n",
    "    print(X)\n",
    "#     plt.scatter(X, [0]*len(X), s=50, alpha=.1, c=colors[cl], linewidth=.5, edgecolor='grey')\n",
    "    plt.scatter(bin_edges, [0]*len(bin_edges), s=hist**2*20, alpha=.7, c=colors[cl], linewidth=1.2, edgecolor='grey')\n",
    "\n",
    "x = 2.5\n",
    "xaxis_y = bbox.y0\n",
    "ax.set_ylim(-10,10)\n",
    "#tria = np.array([[x,xaxis_y],[x-10,xaxis_y-10],[x+10,xaxis_y-10]])\n",
    "tria = np.array([[x,0],[x-.2,-.3],[x+.2,-0.3]])\n",
    "t = patches.Polygon(tria, linewidth=1.2, edgecolor='orange',\n",
    "                      facecolor='orange', label='foo')\n",
    "t.set_clip_on(False)\n",
    "ax.set_xlabel(f'petal length')\n",
    "#ax.add_patch(t)\n",
    "#ax.set_xticks([])\n",
    "#ax.yaxis.set_visible(False)\n",
    "ax.spines['top'].set_visible(False)\n",
    "ax.spines['right'].set_visible(False)\n",
    "ax.spines['left'].set_visible(False)\n",
    "plt.show()"
   ]
  },
  {
   "cell_type": "code",
   "execution_count": null,
   "metadata": {},
   "outputs": [],
   "source": [
    "import matplotlib.patches as patches\n",
    "from matplotlib.patches import FancyBboxPatch\n",
    "from matplotlib.transforms import Bbox\n",
    "from matplotlib.figure import figaspect\n",
    "\n",
    "size = 1\n",
    "fig, ax = plt.subplots(1, 1, figsize=(size,size), subplot_kw=dict(aspect=\"equal\"))\n",
    "\n",
    "ratios = [50, 4, 0, 19]\n",
    "#ax.axis('equal')  # Equal aspect ratio ensures that pie is drawn as a circle.\n",
    "patches, _ = ax.pie(ratios, radius=1, shadow=False)\n",
    "for patch in patches:\n",
    "    print(patch)\n",
    "    patch.set_linewidth(.5)\n",
    "    patch.set_edgecolor('black')\n",
    "\n",
    "plt.show()"
   ]
  },
  {
   "cell_type": "code",
   "execution_count": null,
   "metadata": {
    "scrolled": true
   },
   "outputs": [],
   "source": [
    "data = boston.data\n",
    "feature_names = boston.feature_names\n",
    "target = boston.target\n",
    "\n",
    "fig, ax = plt.subplots(1, 1, figsize=(6,2))\n",
    "mu = 0\n",
    "sigma=.2\n",
    "x = np.random.normal(mu, sigma, size=len(target))\n",
    "ax.scatter(x, target, s=5, alpha=.7)\n",
    "# ax.scatter(data[:,1], target, s=2)\n",
    "# ax.scatter(data[:,2], target, s=2)\n",
    "\n",
    "plt.show()"
   ]
  },
  {
   "cell_type": "code",
   "execution_count": null,
   "metadata": {},
   "outputs": [],
   "source": [
    "data = pd.DataFrame(boston.data)\n",
    "data.columns = boston.feature_names\n",
    "data"
   ]
  },
  {
   "cell_type": "markdown",
   "metadata": {},
   "source": [
    "# Generate table"
   ]
  },
  {
   "cell_type": "code",
   "execution_count": 186,
   "metadata": {},
   "outputs": [
    {
     "name": "stdout",
     "output_type": "stream",
     "text": [
      "(1, 0)\n",
      "Bbox(x0=9.0, y0=9.0, x1=36.9, y1=21.0)\n",
      "(1, 1)\n",
      "Bbox(x0=9.0, y0=9.0, x1=36.9, y1=21.0)\n",
      "(2, 0)\n",
      "Bbox(x0=9.0, y0=9.0, x1=36.9, y1=21.0)\n",
      "(2, 1)\n",
      "Bbox(x0=9.0, y0=9.0, x1=36.9, y1=21.0)\n",
      "(0, 0)\n",
      "Bbox(x0=9.0, y0=9.0, x1=36.9, y1=21.0)\n",
      "(0, 1)\n",
      "Bbox(x0=9.0, y0=9.0, x1=36.9, y1=21.0)\n"
     ]
    },
    {
     "data": {
      "image/png": "[encoded data removed]",
      "text/plain": [
       "<Figure size 72x72 with 1 Axes>"
      ]
     },
     "metadata": {},
     "output_type": "display_data"
    }
   ],
   "source": [
    "import matplotlib.font_manager as font_manager\n",
    "\n",
    "fs = (4,1)\n",
    "nrows = 2\n",
    "ncols = 2\n",
    "hcell, wcell = 0.3, 1.\n",
    "hpad, wpad = 0, 0    \n",
    "fs=(ncols*wcell+wpad, nrows*hcell+hpad)\n",
    "fig, ax = plt.subplots(1,1, figsize=(1,1))\n",
    "\n",
    "# hide axes\n",
    "# fig.patch.set_visible(False)\n",
    "ax.axis('off')\n",
    "# ax.axis('tight')\n",
    "ax.set_xlim(0,0.01)\n",
    "ax.set_ylim(0,0.01)\n",
    "\n",
    "# ax.xaxis.set_visible(False)\n",
    "# ax.yaxis.set_visible(False)\n",
    "\n",
    "df = pd.DataFrame(np.random.randn(2, 2), columns=list('AB'))\n",
    "\n",
    "\n",
    "tab = ax.table(cellText=df.values,\n",
    "             colLabels=df.columns,\n",
    "#             colColours=['red','blue'],\n",
    "             loc='center',\n",
    "               clip_on = True,\n",
    "#               bbox = [0, 0, 0.7, 0.2]\n",
    "              )\n",
    "\n",
    "tab.auto_set_font_size(False)\n",
    "#print('\\n'.join(dir(tab)))\n",
    "for key, cell in tab.get_celld().items():\n",
    "    row, col = key\n",
    "    print(key)\n",
    "    cell.set_fontsize(11)\n",
    "    cell.set_text_props(fontname='Arial', color=GREY)\n",
    "    cell.set_linewidth(0)\n",
    "    print(cell.get_extents())\n",
    "\n",
    "#fig.tight_layout()\n",
    "plt.savefig(\"/tmp/table.svg\", bbox_inches='tight', pad_inches=0)\n",
    "\n",
    "plt.show()"
   ]
  },
  {
   "cell_type": "code",
   "execution_count": 209,
   "metadata": {},
   "outputs": [
    {
     "data": {
      "image/png": "[encoded data removed]",
      "text/plain": [
       "<Figure size 432x288 with 1 Axes>"
      ]
     },
     "metadata": {},
     "output_type": "display_data"
    }
   ],
   "source": [
    "import matplotlib.pyplot as plt\n",
    "import numpy as np\n",
    "import pandas\n",
    "\n",
    "from matplotlib.table import Table\n",
    "\n",
    "def checkerboard_table(data, fmt='{:.2f}', bkg_colors=['yellow', 'white']):\n",
    "    fig, ax = plt.subplots()\n",
    "    ax.set_axis_off()\n",
    "    tb = Table(ax)\n",
    "\n",
    "    nrows, ncols = data.shape\n",
    "    width, height = 1.0 / ncols, 1.0 / nrows\n",
    "\n",
    "    # Add cells\n",
    "    for (i,j), val in np.ndenumerate(data):\n",
    "        # Index either the first or second item of bkg_colors based on\n",
    "        # a checker board pattern\n",
    "        idx = [j % 2, (j + 1) % 2][i % 2]\n",
    "        color = bkg_colors[idx]\n",
    "\n",
    "        tb.add_cell(i, j, width, height, text=fmt.format(val), \n",
    "                    loc='center', facecolor=color)\n",
    "\n",
    "    # Row Labels...\n",
    "    for i, label in enumerate(data.index):\n",
    "        tb.add_cell(i, -1, width, height, text=label, loc='right', \n",
    "                    edgecolor='none', facecolor='none')\n",
    "    # Column Labels...\n",
    "    for j, label in enumerate(data.columns):\n",
    "        tb.add_cell(-1, j, width, height/2, text=label, loc='center', \n",
    "                           edgecolor='none', facecolor='none')\n",
    "    ax.add_table(tb)\n",
    "    return fig\n",
    "\n",
    "data = pandas.DataFrame(np.random.random((12,8)), \n",
    "                        columns=['A','B','C','D','E','F','G','H'])\n",
    "checkerboard_table(data)\n",
    "plt.show()\n"
   ]
  },
  {
   "cell_type": "code",
   "execution_count": 221,
   "metadata": {},
   "outputs": [
    {
     "data": {
      "image/png": "[encoded data removed]",
      "text/plain": [
       "<Figure size 432x288 with 1 Axes>"
      ]
     },
     "metadata": {},
     "output_type": "display_data"
    }
   ],
   "source": [
    "fig, ax = plt.subplots()\n",
    "ax.set_axis_off()\n",
    "\n",
    "df = pd.DataFrame(np.random.randn(2, 2), columns=list('AB'))\n",
    "\n",
    "nrows, ncols = df.shape\n",
    "width, height = 1.0 / (ncols+1), 1.0 / (nrows+1)\n",
    "\n",
    "tb = Table(ax)\n",
    "for i in range(nrows):\n",
    "    for j in range(ncols):\n",
    "        tb.add_cell(i, j, width, height, text=df.iloc[i,j], \n",
    "                            loc='center')\n",
    "ax.add_table(tb)\n",
    "plt.show()"
   ]
  },
  {
   "cell_type": "markdown",
   "metadata": {},
   "source": [
    "# fonts"
   ]
  },
  {
   "cell_type": "code",
   "execution_count": 207,
   "metadata": {},
   "outputs": [
    {
     "name": "stdout",
     "output_type": "stream",
     "text": [
      "/Users/parrt/anaconda3/lib/python3.6/site-packages/matplotlib/mpl-data\n",
      "Helvetica-LightOblique\n"
     ]
    }
   ],
   "source": [
    "from matplotlib import rcParams\n",
    "from matplotlib.afm import AFM\n",
    "import os.path\n",
    "from pathlib import Path\n",
    "\n",
    "print(rcParams['datapath'])\n",
    "\n",
    "fontnames = ['cmex10.afm', 'cmmi10.afm', 'cmr10.afm', 'cmsy10.afm', \n",
    "             'cmtt10.afm', 'pagd8a.afm', 'pagdo8a.afm', 'pagk8a.afm', \n",
    "             'pagko8a.afm', 'pbkd8a.afm', 'pbkdi8a.afm', 'pbkl8a.afm', \n",
    "             'pbkli8a.afm', 'pcrb8a.afm', 'pcrbo8a.afm', 'pcrr8a.afm',\n",
    "             'pcrro8a.afm', 'phvb8a.afm', 'phvb8an.afm', 'phvbo8a.afm', \n",
    "             'phvbo8an.afm', 'phvl8a.afm', 'phvlo8a.afm', 'phvr8a.afm', \n",
    "             'phvr8an.afm', 'phvro8a.afm', 'phvro8an.afm', 'pncb8a.afm',\n",
    "             'pncbi8a.afm', 'pncr8a.afm', 'pncri8a.afm', 'pplb8a.afm',\n",
    "             'pplbi8a.afm', 'pplr8a.afm', 'pplri8a.afm', 'psyr.afm',\n",
    "             'ptmb8a.afm', 'ptmbi8a.afm', 'ptmr8a.afm', 'ptmri8a.afm',\n",
    "             'putb8a.afm', 'putbi8a.afm', 'putr8a.afm', 'putri8a.afm',\n",
    "             'pzcmi8a.afm', 'pzdr.afm']\n",
    "fontname2filename = {}\n",
    "for font in fontnames:\n",
    "    p = Path(afm_fname)\n",
    "    afm_fname = os.path.join(rcParams['datapath'],\n",
    "                        'fonts', 'afm', font)\n",
    "    with open(afm_fname, 'rb') as fh:\n",
    "        afm = AFM(fh)\n",
    "#     print(p.name, afm.get_fontname())\n",
    "    fontname2filename[afm.get_fontname()] = p.name\n",
    "    #afm.string_width_height('What the heck?')\n",
    "    \n",
    "#print(fontname2filename)\n",
    "def get_font_metrics(fontname): # phvr8a.afm\n",
    "    FONT_FILENAMES = {'CMEX10': 'pzdr.afm',\n",
    "                'CMMI10': 'cmex10.afm',\n",
    "                'CMR10': 'cmmi10.afm',\n",
    "                'CMSY10': 'cmr10.afm',\n",
    "                'CMTT10': 'cmsy10.afm',\n",
    "                'AvantGarde-Demi': 'cmtt10.afm',\n",
    "                'AvantGarde-DemiOblique': 'pagd8a.afm',\n",
    "                'AvantGarde-Book': 'pagdo8a.afm',\n",
    "                'AvantGarde-BookOblique': 'pagk8a.afm',\n",
    "                'Bookman-Demi': 'pagko8a.afm',\n",
    "                'Bookman-DemiItalic': 'pbkd8a.afm',\n",
    "                'Bookman-Light': 'pbkdi8a.afm',\n",
    "                'Bookman-LightItalic': 'pbkl8a.afm',\n",
    "                'Courier-Bold': 'pbkli8a.afm',\n",
    "                'Courier-BoldOblique': 'pcrb8a.afm',\n",
    "                'Courier': 'pcrbo8a.afm',\n",
    "                'Courier-Oblique': 'pcrr8a.afm',\n",
    "                'Helvetica-Bold': 'pcrro8a.afm',\n",
    "                'Helvetica-Narrow-Bold': 'phvb8a.afm',\n",
    "                'Helvetica-BoldOblique': 'phvb8an.afm',\n",
    "                'Helvetica-Narrow-BoldOblique': 'phvbo8a.afm',\n",
    "                'Helvetica-Light': 'phvbo8an.afm',\n",
    "                'Helvetica-LightOblique': 'phvl8a.afm',\n",
    "                'Helvetica': 'phvlo8a.afm',\n",
    "                'Helvetica-Narrow': 'phvr8a.afm',\n",
    "                'Helvetica-Oblique': 'phvr8an.afm',\n",
    "                'Helvetica-Narrow-Oblique': 'phvro8a.afm',\n",
    "                'NewCenturySchlbk-Bold': 'phvro8an.afm',\n",
    "                'NewCenturySchlbk-BoldItalic': 'pncb8a.afm',\n",
    "                'NewCenturySchlbk-Roman': 'pncbi8a.afm',\n",
    "                'NewCenturySchlbk-Italic': 'pncr8a.afm',\n",
    "                'Palatino-Bold': 'pncri8a.afm',\n",
    "                'Palatino-BoldItalic': 'pplb8a.afm',\n",
    "                'Palatino-Roman': 'pplbi8a.afm',\n",
    "                'Palatino-Italic': 'pplr8a.afm',\n",
    "                'Symbol': 'pplri8a.afm',\n",
    "                'Times-Bold': 'psyr.afm',\n",
    "                'Times-BoldItalic': 'ptmb8a.afm',\n",
    "                'Times-Roman': 'ptmbi8a.afm',\n",
    "                'Times-Italic': 'ptmr8a.afm',\n",
    "                'Utopia-Bold': 'ptmri8a.afm',\n",
    "                'Utopia-BoldItalic': 'putb8a.afm',\n",
    "                'Utopia-Regular': 'putbi8a.afm',\n",
    "                'Utopia-Italic': 'putr8a.afm',\n",
    "                'ZapfChancery-MediumItalic': 'putri8a.afm',\n",
    "                'ZapfDingbats': 'pzcmi8a.afm'}\n",
    "    afm_fname = os.path.join(rcParams['datapath'],\n",
    "                        'fonts', 'afm', FONT_FILENAMES[fontname])\n",
    "    with open(afm_fname, 'rb') as fh:\n",
    "        afm = AFM(fh)\n",
    "    return afm\n",
    "\n",
    "print(get_font_metrics('Helvetica').get_fontname())"
   ]
  },
  {
   "cell_type": "code",
   "execution_count": 189,
   "metadata": {},
   "outputs": [
    {
     "data": {
      "text/plain": [
       "'/Users/parrt/.matplotlib'"
      ]
     },
     "execution_count": 189,
     "metadata": {},
     "output_type": "execute_result"
    }
   ],
   "source": [
    "import matplotlib as mpl\n",
    "fm = mpl.font_manager\n",
    "fm.get_cachedir()"
   ]
  }
 ],
 "metadata": {
  "kernelspec": {
   "display_name": "Python 3",
   "language": "python",
   "name": "python3"
  },
  "language_info": {
   "codemirror_mode": {
    "name": "ipython",
    "version": 3
   },
   "file_extension": ".py",
   "mimetype": "text/x-python",
   "name": "python",
   "nbconvert_exporter": "python",
   "pygments_lexer": "ipython3",
   "version": "3.6.5"
  },
  "toc": {
   "nav_menu": {
    "height": "12px",
    "width": "252px"
   },
   "number_sections": true,
   "sideBar": true,
   "skip_h1_title": false,
   "toc_cell": false,
   "toc_position": {},
   "toc_section_display": "block",
   "toc_window_display": false
  }
 },
 "nbformat": 4,
 "nbformat_minor": 2
}
